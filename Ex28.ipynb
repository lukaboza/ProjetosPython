{
 "cells": [
  {
   "cell_type": "code",
   "execution_count": null,
   "metadata": {},
   "outputs": [],
   "source": [
    "'''\n",
    "Faça um programa que lê as duas notas parciais obtidas por um aluno \n",
    "numa disciplina ao longo de um semestre, e calcule a sua média. \n",
    "A atribuição de conceitos obedece à tabela abaixo:\n",
    "\n",
    "      Média de Aproveitamento  Conceito\n",
    "      Entre 9.0 e 10.0        A\n",
    "      Entre 7.5 e 9.0         B\n",
    "      Entre 6.0 e 7.5         C\n",
    "      Entre 4.0 e 6.0         D\n",
    "      Entre 4.0 e zero        E\n",
    "\n",
    "    O algoritmo deve mostrar na tela as notas, a média\n",
    "    o conceito correspondente e a mensagem “APROVADO”\n",
    "    se o conceito for A, B ou C ou “REPROVADO” se o conceito for D ou E. \n",
    "'''"
   ]
  },
  {
   "cell_type": "code",
   "execution_count": 4,
   "metadata": {},
   "outputs": [
    {
     "name": "stdin",
     "output_type": "stream",
     "text": [
      "Informe a primeira nota:  6\n",
      "Informe a segunda nota:  6\n"
     ]
    },
    {
     "name": "stdout",
     "output_type": "stream",
     "text": [
      "você tirou C!\n",
      "Aprovado!\n"
     ]
    }
   ],
   "source": [
    "# receber 2 médias\n",
    "\n",
    "nota_1 = float(input('Informe a primeira nota: '))\n",
    "nota_2 = float(input('Informe a segunda nota: '))\n",
    "\n",
    "# calcular média\n",
    "\n",
    "media = (nota_1 + nota_2) / 2\n",
    "\n",
    "# fazer tabela\n",
    "    # Entre 9.0 e 10.0        A\n",
    "if 9 <= media < 10:\n",
    "    print('você tirou A!')\n",
    "    print('Aprovado!')\n",
    "    \n",
    "    # Entre 7.5 e 9.0         B\n",
    "if 7.5 <= media < 9:\n",
    "    print('você tirou B!')\n",
    "    print('Aprovado!')\n",
    "    \n",
    "    # Entre 6.0 e 7.5         C\n",
    "if 6 <= media < 7.5:\n",
    "    print('você tirou C!')\n",
    "    print('Aprovado!')\n",
    "    \n",
    "    # Entre 4.0 e 6.0         D\n",
    "if 4 <= media < 6:\n",
    "    print('você tirou D!')\n",
    "    print('Reprovado!')\n",
    "    \n",
    "    # Entre 4.0 e zero        E\n",
    "if 4 <= media < 0:\n",
    "    print('você tirou E!')\n",
    "    print('Reprovado!')\n"
   ]
  },
  {
   "cell_type": "code",
   "execution_count": null,
   "metadata": {},
   "outputs": [],
   "source": []
  }
 ],
 "metadata": {
  "kernelspec": {
   "display_name": "Python 3",
   "language": "python",
   "name": "python3"
  },
  "language_info": {
   "codemirror_mode": {
    "name": "ipython",
    "version": 3
   },
   "file_extension": ".py",
   "mimetype": "text/x-python",
   "name": "python",
   "nbconvert_exporter": "python",
   "pygments_lexer": "ipython3",
   "version": "3.8.5"
  }
 },
 "nbformat": 4,
 "nbformat_minor": 4
}
