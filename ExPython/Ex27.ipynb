{
 "cells": [
  {
   "cell_type": "code",
   "execution_count": null,
   "metadata": {},
   "outputs": [],
   "source": [
    "'''\n",
    "Faça um Programa que leia um número e exiba o dia correspondente da semana.\n",
    "(1-Domingo, 2- Segunda, etc.), se digitar outro valor\n",
    "deve aparecer valor inválido. \n",
    "'''"
   ]
  },
  {
   "cell_type": "code",
   "execution_count": 12,
   "metadata": {},
   "outputs": [
    {
     "name": "stdin",
     "output_type": "stream",
     "text": [
      "Informe um número de 1 a 7:  9\n"
     ]
    },
    {
     "name": "stdout",
     "output_type": "stream",
     "text": [
      "Valor invalido.\n"
     ]
    }
   ],
   "source": [
    "# ler um número\n",
    "\n",
    "dia = int(input('Informe um número de 1 a 7: '))\n",
    "\n",
    "# exibir dia da semana\n",
    "\n",
    "if dia == 1:\n",
    "    print('Domingo!')\n",
    "    \n",
    "if dia == 2:\n",
    "    print('Segunda!')\n",
    "\n",
    "if dia == 3:\n",
    "    print('Terça!')\n",
    "    \n",
    "if dia == 4:\n",
    "    print('Quarta!')\n",
    "    \n",
    "if dia == 5:\n",
    "    print('Quinta!')\n",
    "    \n",
    "if dia == 6:\n",
    "    print('Sexta!')\n",
    "\n",
    "if dia == 7:\n",
    "    print('Sabado!')\n",
    "    \n",
    "else:\n",
    "    print('Valor invalido.')\n",
    "    "
   ]
  },
  {
   "cell_type": "code",
   "execution_count": null,
   "metadata": {},
   "outputs": [],
   "source": []
  }
 ],
 "metadata": {
  "kernelspec": {
   "display_name": "Python 3",
   "language": "python",
   "name": "python3"
  },
  "language_info": {
   "codemirror_mode": {
    "name": "ipython",
    "version": 3
   },
   "file_extension": ".py",
   "mimetype": "text/x-python",
   "name": "python",
   "nbconvert_exporter": "python",
   "pygments_lexer": "ipython3",
   "version": "3.8.5"
  }
 },
 "nbformat": 4,
 "nbformat_minor": 4
}
