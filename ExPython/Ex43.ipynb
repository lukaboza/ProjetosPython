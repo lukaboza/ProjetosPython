{
 "cells": [
  {
   "cell_type": "code",
   "execution_count": null,
   "metadata": {},
   "outputs": [],
   "source": [
    "'''\n",
    "Faça um programa que mostre todos os primos entre 1 e N sendo N um número inteiro fornecido pelo usuário.\n",
    "O programa deverá mostrar também o número de divisões que ele executou para encontrar os números primos.\n",
    "Serão avaliados o funcionamento, o estilo e o número de testes (divisões) executados.\n",
    "'''"
   ]
  },
  {
   "cell_type": "code",
   "execution_count": null,
   "metadata": {},
   "outputs": [],
   "source": [
    "num = input(print('informe um número: '))\n",
    "\n",
    "print(num)"
   ]
  }
 ],
 "metadata": {
  "language_info": {
   "codemirror_mode": {
    "name": "ipython",
    "version": 3
   },
   "file_extension": ".py",
   "mimetype": "text/x-python",
   "name": "python",
   "nbconvert_exporter": "python",
   "pygments_lexer": "ipython3",
   "version": 3
  },
  "orig_nbformat": 2
 },
 "nbformat": 4,
 "nbformat_minor": 2
}
