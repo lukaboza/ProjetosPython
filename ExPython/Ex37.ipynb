{
 "metadata": {
  "language_info": {
   "codemirror_mode": {
    "name": "ipython",
    "version": 3
   },
   "file_extension": ".py",
   "mimetype": "text/x-python",
   "name": "python",
   "nbconvert_exporter": "python",
   "pygments_lexer": "ipython3",
   "version": "3.8.5"
  },
  "orig_nbformat": 2,
  "kernelspec": {
   "name": "python385jvsc74a57bd007efdcd4b820c98a756949507a4d29d7862823915ec7477944641bea022f4f62",
   "display_name": "Python 3.8.5 64-bit ('base': conda)"
  }
 },
 "nbformat": 4,
 "nbformat_minor": 2,
 "cells": [
  {
   "cell_type": "code",
   "execution_count": null,
   "metadata": {},
   "outputs": [],
   "source": [
    "'''\n",
    "Faça um programa que receba dois números inteiros e gere os números inteiros que estão no intervalo compreendido por eles. \n",
    "'''"
   ]
  },
  {
   "cell_type": "code",
   "execution_count": 11,
   "metadata": {},
   "outputs": [
    {
     "output_type": "stream",
     "name": "stdout",
     "text": [
      "3\n4\nA soma dos valores deu 7\n"
     ]
    }
   ],
   "source": [
    "x = int(input('Informe um número: '))\n",
    "y = int(input('Informe  outro número: '))\n",
    "soma = 0\n",
    "if y > x:\n",
    "    for c in range(x + 1, y):\n",
    "        print(c)\n",
    "        soma += c\n",
    "    \n",
    "elif y < x:\n",
    "    for c in range(y + 1, x):\n",
    "        print(c)\n",
    "        soma += c\n",
    "\n",
    "print(f'A soma dos valores deu {soma}')"
   ]
  },
  {
   "cell_type": "code",
   "execution_count": null,
   "metadata": {},
   "outputs": [],
   "source": []
  }
 ]
}