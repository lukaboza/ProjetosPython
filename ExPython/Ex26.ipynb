{
 "cells": [
  {
   "cell_type": "code",
   "execution_count": null,
   "metadata": {},
   "outputs": [],
   "source": [
    "'''\n",
    "As Organizações Tabajara resolveram dar um aumento de salário\n",
    "aos seus colaboradores e lhe contraram para desenvolver o\n",
    "programa que calculará os reajustes.\n",
    "\n",
    "    - Faça um programa que recebe o salário de um colaborador\n",
    "      e o reajuste segundo o seguinte critério, baseado no salário atual:\n",
    "        - salários até R$ 280,00 (incluindo) : aumento de 20%\n",
    "        - salários entre R$ 280,00 e R$ 700,00 : aumento de 15%\n",
    "        - salários entre R$ 700,00 e R$ 1500,00 : aumento de 10%\n",
    "        - salários de R$ 1500,00 em diante : aumento de 5% Após o \n",
    "          aumento ser realizado, informe na tela:\n",
    "            - o salário antes do reajuste;\n",
    "            - o percentual de aumento aplicado;\n",
    "            - o valor do aumento;\n",
    "            - o novo salário, após o aumento. \n",
    "'''"
   ]
  },
  {
   "cell_type": "code",
   "execution_count": 3,
   "metadata": {},
   "outputs": [
    {
     "name": "stdin",
     "output_type": "stream",
     "text": [
      "Entre com seu salário:  280\n",
      "Entre com a % do reajuste:  15\n"
     ]
    },
    {
     "name": "stdout",
     "output_type": "stream",
     "text": [
      "Salário anterior informado é de 280.0\n",
      "Percentual aplicado no aumento 15.0%\n",
      "Aumento calculado 42.0\n",
      "Seu novo salário é de 322.0\n"
     ]
    }
   ],
   "source": [
    "# entrar com salário e reajuste\n",
    "\n",
    "salario = float(input('Entre com seu salário: '))\n",
    "reajuste = int(input('Entre com a % do reajuste: '))\n",
    "reajuste = reajuste / 100\n",
    "# calcular reajuste\n",
    "\n",
    "    # até 280 - 20%\n",
    "if salario < 280:\n",
    "    aumento = salario * reajuste \n",
    "\n",
    "    # entre 280 e 700 - 15%\n",
    "elif salario >= 280 and salario < 700:\n",
    "    aumento = salario * reajuste\n",
    "    \n",
    "    # entre 700 e 1500 - 10%\n",
    "elif salario >= 700 and salario < 1500:\n",
    "    aumento = salario * reajuste\n",
    "    \n",
    "    # a partir de 1500 - 5%\n",
    "elif salario >= 1500:\n",
    "    aumento = salario * reajuste\n",
    "\n",
    "#imprimir dados\n",
    "    \n",
    "    # salario antes do reajuste\n",
    "print(f'Salário anterior informado é de {salario}')\n",
    "    \n",
    "    # percentual aplicado\n",
    "print(f'Percentual aplicado no aumento {reajuste * 100}%')\n",
    "    \n",
    "    # valor aumentado\n",
    "print(f'Aumento calculado {aumento}')\n",
    "    \n",
    "    # novo salario\n",
    "print(f'Seu novo salário é de {salario + aumento}')"
   ]
  },
  {
   "cell_type": "code",
   "execution_count": null,
   "metadata": {},
   "outputs": [],
   "source": []
  }
 ],
 "metadata": {
  "kernelspec": {
   "display_name": "Python 3",
   "language": "python",
   "name": "python3"
  },
  "language_info": {
   "codemirror_mode": {
    "name": "ipython",
    "version": 3
   },
   "file_extension": ".py",
   "mimetype": "text/x-python",
   "name": "python",
   "nbconvert_exporter": "python",
   "pygments_lexer": "ipython3",
   "version": "3.8.5"
  }
 },
 "nbformat": 4,
 "nbformat_minor": 4
}
