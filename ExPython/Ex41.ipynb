{
 "cells": [
  {
   "cell_type": "code",
   "execution_count": 1,
   "metadata": {},
   "outputs": [
    {
     "data": {
      "text/plain": [
       "'\\nFaça um programa que, dado um conjunto de N números, determine o menor valor, o maior valor e a soma dos valores. \\n'"
      ]
     },
     "execution_count": 1,
     "metadata": {},
     "output_type": "execute_result"
    }
   ],
   "source": [
    "'''\n",
    "Faça um programa que, dado um conjunto de N números, determine o menor valor, o maior valor e a soma dos valores. \n",
    "'''"
   ]
  },
  {
   "cell_type": "code",
   "execution_count": 8,
   "metadata": {
    "tags": []
   },
   "outputs": [
    {
     "name": "stdout",
     "output_type": "stream",
     "text": [
      "O total da soma dos números informados deu  15.\n",
      "O maior número informado foi 9 e o menor foi 1\n"
     ]
    }
   ],
   "source": [
    "resp = 's'\n",
    "tot = 0\n",
    "maior = -99999\n",
    "menor = 99999\n",
    "\n",
    "\n",
    "while resp != 'n':\n",
    "    n = int(input('Informe um número para somar: '))\n",
    "    tot += n\n",
    "    if n > maior:\n",
    "        maior = n\n",
    "    elif n < menor:\n",
    "        menor = n\n",
    "    resp = str(input('Quer continuar ? [S/N]: '))\n",
    "\n",
    "\n",
    "print(f'O total da soma dos números informados deu  {tot}.')\n",
    "print(f'O maior número informado foi {maior} e o menor foi {menor}.')"
   ]
  },
  {
   "cell_type": "code",
   "execution_count": null,
   "metadata": {},
   "outputs": [],
   "source": []
  }
 ],
 "metadata": {
  "interpreter": {
   "hash": "96c09a68fc6acbe3357f970c5114e84d29c0ed21476dbaf759a83f7a87cc5e81"
  },
  "kernelspec": {
   "display_name": "Python 3.8.5 64-bit ('base': conda)",
   "language": "python",
   "name": "python3"
  },
  "language_info": {
   "codemirror_mode": {
    "name": "ipython",
    "version": 3
   },
   "file_extension": ".py",
   "mimetype": "text/x-python",
   "name": "python",
   "nbconvert_exporter": "python",
   "pygments_lexer": "ipython3",
   "version": "3.10.4"
  },
  "orig_nbformat": 2
 },
 "nbformat": 4,
 "nbformat_minor": 2
}
