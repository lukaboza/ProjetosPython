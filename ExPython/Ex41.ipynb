{
 "metadata": {
  "language_info": {
   "codemirror_mode": {
    "name": "ipython",
    "version": 3
   },
   "file_extension": ".py",
   "mimetype": "text/x-python",
   "name": "python",
   "nbconvert_exporter": "python",
   "pygments_lexer": "ipython3",
   "version": "3.8.5"
  },
  "orig_nbformat": 2,
  "kernelspec": {
   "name": "python385jvsc74a57bd007efdcd4b820c98a756949507a4d29d7862823915ec7477944641bea022f4f62",
   "display_name": "Python 3.8.5 64-bit ('base': conda)"
  }
 },
 "nbformat": 4,
 "nbformat_minor": 2,
 "cells": [
  {
   "cell_type": "code",
   "execution_count": null,
   "metadata": {},
   "outputs": [],
   "source": [
    "'''\n",
    "Faça um programa que, dado um conjunto de N números, determine o menor valor, o maior valor e a soma dos valores. \n",
    "'''"
   ]
  },
  {
   "cell_type": "code",
   "execution_count": 8,
   "metadata": {
    "tags": []
   },
   "outputs": [
    {
     "output_type": "stream",
     "name": "stdout",
     "text": [
      "O total da soma dos números informados deu  15.\nO maior número informado foi 9 e o menor foi 1\n"
     ]
    }
   ],
   "source": [
    "resp = 's'\n",
    "tot = 0\n",
    "maior = -99999\n",
    "menor = 99999\n",
    "\n",
    "\n",
    "while resp != 'n':\n",
    "    n = int(input('Informe um número para somar: '))\n",
    "    tot += n\n",
    "    if n > maior:\n",
    "        maior = n\n",
    "    elif n < menor:\n",
    "        menor = n\n",
    "    resp = str(input('Quer continuar ? [S/N]: '))\n",
    "\n",
    "\n",
    "print(f'O total da soma dos números informados deu  {tot}.')\n",
    "print(f'O maior número informado foi {maior} e o menor foi {menor}.')"
   ]
  },
  {
   "cell_type": "code",
   "execution_count": null,
   "metadata": {},
   "outputs": [],
   "source": []
  }
 ]
}