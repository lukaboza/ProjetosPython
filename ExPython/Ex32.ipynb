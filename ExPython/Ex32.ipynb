{
 "cells": [
  {
   "cell_type": "code",
   "execution_count": 4,
   "metadata": {},
   "outputs": [
    {
     "output_type": "execute_result",
     "data": {
      "text/plain": [
       "\"\\nFaça um programa que leia e valide as seguintes informações:\\n\\n    Nome: maior que 3 caracteres;\\n    Idade: entre 0 e 150;\\n    Salário: maior que zero;\\n    Sexo: 'f' ou 'm';\\n    Estado Civil: 's', 'c', 'v', 'd'; \\n\""
      ]
     },
     "metadata": {},
     "execution_count": 4
    }
   ],
   "source": [
    "'''\n",
    "Faça um programa que leia e valide as seguintes informações:\n",
    "\n",
    "    Nome: maior que 3 caracteres;\n",
    "    Idade: entre 0 e 150;\n",
    "    Salário: maior que zero;\n",
    "    Sexo: 'f' ou 'm';\n",
    "    Estado Civil: 's', 'c', 'v', 'd'; \n",
    "'''"
   ]
  },
  {
   "cell_type": "code",
   "execution_count": 11,
   "metadata": {},
   "outputs": [
    {
     "output_type": "stream",
     "name": "stdout",
     "text": [
      "luka\n22\n300.0\nf\nc\n"
     ]
    }
   ],
   "source": [
    "# entrada de dados\n",
    "nome = str(input('Qual seu nome: '))\n",
    "\n",
    "#validação\n",
    "while len(nome) < 4:\n",
    "    nome = str(input('Nome obrigatório ser mais que 3 caracteres: '))\n",
    "\n",
    "# entrada de dados\n",
    "idade = int(input('Informe sua idade: '))\n",
    "\n",
    "#validação\n",
    "while idade < 0 or idade > 150:\n",
    "    idade = int(input('Idade invalida, tente novamente: '))\n",
    "\n",
    "# entrada de dados\n",
    "sal = float(input('Informe seu salário: '))\n",
    "\n",
    "#validação\n",
    "while sal < 0:\n",
    "    sal = float(input('Salário invalido, tente novamente: '))\n",
    "\n",
    "# entrada de dados\n",
    "sexo = str(input('infome seu sexo: '))\n",
    "\n",
    "# validação\n",
    "while sexo not in 'MmFf':\n",
    "    sexo = str(input('Sexo Invalido, tente novamente: '))\n",
    "\n",
    "# entrada de dados\n",
    "estado_civil = str(input('Qual seu estado civil: '))\n",
    "\n",
    "# validação\n",
    "while estado_civil not in 'SsCcVvDd':\n",
    "    sexo = str(input('Estado civil invalido! tente novamente: '))\n",
    "\n",
    "\n",
    "print(nome)\n",
    "print(idade)\n",
    "print(sal)\n",
    "print(sexo)\n",
    "print(estado_civil)\n"
   ]
  },
  {
   "cell_type": "code",
   "execution_count": null,
   "metadata": {},
   "outputs": [],
   "source": []
  }
 ],
 "metadata": {
  "kernelspec": {
   "name": "python385jvsc74a57bd007efdcd4b820c98a756949507a4d29d7862823915ec7477944641bea022f4f62",
   "display_name": "Python 3.8.5 64-bit ('base': conda)"
  },
  "language_info": {
   "codemirror_mode": {
    "name": "ipython",
    "version": 3
   },
   "file_extension": ".py",
   "mimetype": "text/x-python",
   "name": "python",
   "nbconvert_exporter": "python",
   "pygments_lexer": "ipython3",
   "version": "3.8.5"
  }
 },
 "nbformat": 4,
 "nbformat_minor": 4
}