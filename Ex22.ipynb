{
 "cells": [
  {
   "cell_type": "code",
   "execution_count": null,
   "metadata": {},
   "outputs": [],
   "source": [
    "'''\n",
    "Faça um Programa que leia três números e mostre o maior deles. \n",
    "'''"
   ]
  },
  {
   "cell_type": "code",
   "execution_count": 3,
   "metadata": {},
   "outputs": [
    {
     "name": "stdin",
     "output_type": "stream",
     "text": [
      "Informe um número:  1\n",
      "informe o segundo número:  3\n",
      "Informe o terceiro número:  2\n"
     ]
    },
    {
     "name": "stdout",
     "output_type": "stream",
     "text": [
      "O maior número é o 3\n"
     ]
    }
   ],
   "source": [
    "# ler 3 números\n",
    "\n",
    "num_1 = int(input('Informe um número: '))\n",
    "num_2 = int(input('informe o segundo número: '))\n",
    "num_3 = int(input('Informe o terceiro número: '))\n",
    "\n",
    "#mostrar o maior deles.\n",
    "\n",
    "if num_1 > num_2 and num_1 > num_3:\n",
    "    print(f'O maior número é o {num_1}')\n",
    "elif num_2 > num_1 and num_2 > num_3:\n",
    "    print(f'O maior número é o {num_2}')\n",
    "elif num_3 > num_1 and num_3 > num_2:\n",
    "    print(f'O maior número é o {num_3}')"
   ]
  },
  {
   "cell_type": "code",
   "execution_count": null,
   "metadata": {},
   "outputs": [],
   "source": []
  }
 ],
 "metadata": {
  "kernelspec": {
   "display_name": "Python 3",
   "language": "python",
   "name": "python3"
  },
  "language_info": {
   "codemirror_mode": {
    "name": "ipython",
    "version": 3
   },
   "file_extension": ".py",
   "mimetype": "text/x-python",
   "name": "python",
   "nbconvert_exporter": "python",
   "pygments_lexer": "ipython3",
   "version": "3.8.5"
  }
 },
 "nbformat": 4,
 "nbformat_minor": 4
}
