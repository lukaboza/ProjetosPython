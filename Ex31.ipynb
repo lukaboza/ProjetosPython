{
 "cells": [
  {
   "cell_type": "code",
   "execution_count": null,
   "source": [
    "'''\r\n",
    "Faça um programa que leia um nome de usuário e a sua senha e não aceite a senha igual ao nome do usuário,\r\n",
    "mostrando uma mensagem de erro e voltando a pedir as informações. \r\n",
    "'''"
   ],
   "outputs": [],
   "metadata": {}
  },
  {
   "cell_type": "code",
   "execution_count": 3,
   "source": [
    "#entra da de dados do usuario e senha\r\n",
    "\r\n",
    "nome = input('Informe o usuario: ')\r\n",
    "senha = input('informe a senha: ')\r\n",
    "\r\n",
    "# validação do usuaro e senha\r\n",
    "\r\n",
    "while nome == senha:\r\n",
    "    print('Usuario e senha iguais! Tente novamente!')\r\n",
    "    nome = input('Informe o usuario: ')\r\n",
    "    senha = input('informe a senha: ')\r\n",
    "\r\n",
    "print('Registrado com sucesso!')"
   ],
   "outputs": [
    {
     "output_type": "stream",
     "name": "stdout",
     "text": [
      "Usuario e senha iguais! Tente novamente!\n",
      "Registrado com sucesso!\n"
     ]
    }
   ],
   "metadata": {}
  },
  {
   "cell_type": "code",
   "execution_count": null,
   "source": [],
   "outputs": [],
   "metadata": {}
  }
 ],
 "metadata": {
  "kernelspec": {
   "name": "python385jvsc74a57bd007efdcd4b820c98a756949507a4d29d7862823915ec7477944641bea022f4f62",
   "display_name": "Python 3.8.5 64-bit (virtualenv)"
  },
  "language_info": {
   "codemirror_mode": {
    "name": "ipython",
    "version": 3
   },
   "file_extension": ".py",
   "mimetype": "text/x-python",
   "name": "python",
   "nbconvert_exporter": "python",
   "pygments_lexer": "ipython3",
   "version": "3.8.5"
  }
 },
 "nbformat": 4,
 "nbformat_minor": 4
}