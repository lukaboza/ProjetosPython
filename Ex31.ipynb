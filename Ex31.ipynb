{
 "cells": [
  {
   "cell_type": "code",
   "execution_count": null,
   "metadata": {},
   "outputs": [],
   "source": [
    "'''\n",
    "Faça um programa que leia um nome de usuário e a sua senha e não aceite a senha igual ao nome do usuário, mostrando uma mensagem de erro e voltando a pedir as informações. \n",
    "'''"
   ]
  },
  {
   "cell_type": "code",
   "execution_count": 3,
   "metadata": {},
   "outputs": [
    {
     "output_type": "stream",
     "name": "stdout",
     "text": [
      "Usuario e senha iguais! Tente novamente!\n",
      "Registrado com sucesso!\n"
     ]
    }
   ],
   "source": [
    "#entra da de dados do usuario e senha\n",
    "\n",
    "nome = input('Informe o usuario: ')\n",
    "senha = input('informe a senha: ')\n",
    "\n",
    "# validação do usuaro e senha\n",
    "\n",
    "while nome == senha:\n",
    "    print('Usuario e senha iguais! Tente novamente!')\n",
    "    nome = input('Informe o usuario: ')\n",
    "    senha = input('informe a senha: ')\n",
    "\n",
    "print('Registrado com sucesso!')"
   ]
  },
  {
   "cell_type": "code",
   "execution_count": null,
   "metadata": {},
   "outputs": [],
   "source": []
  }
 ],
 "metadata": {
  "kernelspec": {
   "name": "python385jvsc74a57bd007efdcd4b820c98a756949507a4d29d7862823915ec7477944641bea022f4f62",
   "display_name": "Python 3.8.5 64-bit (virtualenv)"
  },
  "language_info": {
   "codemirror_mode": {
    "name": "ipython",
    "version": 3
   },
   "file_extension": ".py",
   "mimetype": "text/x-python",
   "name": "python",
   "nbconvert_exporter": "python",
   "pygments_lexer": "ipython3",
   "version": "3.8.5"
  }
 },
 "nbformat": 4,
 "nbformat_minor": 4
}