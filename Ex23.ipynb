{
 "cells": [
  {
   "cell_type": "code",
   "execution_count": null,
   "metadata": {},
   "outputs": [],
   "source": [
    "'''\n",
    "Faça um Programa que leia três números e mostre o maior e o menor deles. \n",
    "'''"
   ]
  },
  {
   "cell_type": "code",
   "execution_count": 5,
   "metadata": {},
   "outputs": [
    {
     "name": "stdin",
     "output_type": "stream",
     "text": [
      "informe um número:  2\n",
      "informe o segundo número:  4\n",
      "informe o terceiro número:  8\n"
     ]
    },
    {
     "name": "stdout",
     "output_type": "stream",
     "text": [
      "O maior número informado foi 8\n",
      "O menor número informado foi 2\n"
     ]
    }
   ],
   "source": [
    "# ler 3 números\n",
    "\n",
    "num_1 = int(input('informe um número: '))\n",
    "num_2 = int(input('informe o segundo número: '))\n",
    "num_3 = int(input('informe o terceiro número: '))\n",
    "\n",
    "# mostrar maior\n",
    "\n",
    "maior = num_1\n",
    "if num_2 > maior:\n",
    "    maior = num_2\n",
    "if num_3 > maior:\n",
    "    maior = num_3\n",
    "\n",
    "print(f'O maior número informado foi {maior}')\n",
    "    \n",
    "# mostrar menor\n",
    "\n",
    "menor = num_1\n",
    "if num_2 < menor:\n",
    "    menor = num_2\n",
    "if num_3 < menor:\n",
    "    menor = num_3\n",
    "    \n",
    "print(f'O menor número informado foi {menor}')"
   ]
  },
  {
   "cell_type": "code",
   "execution_count": null,
   "metadata": {},
   "outputs": [],
   "source": []
  }
 ],
 "metadata": {
  "kernelspec": {
   "display_name": "Python 3",
   "language": "python",
   "name": "python3"
  },
  "language_info": {
   "codemirror_mode": {
    "name": "ipython",
    "version": 3
   },
   "file_extension": ".py",
   "mimetype": "text/x-python",
   "name": "python",
   "nbconvert_exporter": "python",
   "pygments_lexer": "ipython3",
   "version": "3.8.5"
  }
 },
 "nbformat": 4,
 "nbformat_minor": 4
}
