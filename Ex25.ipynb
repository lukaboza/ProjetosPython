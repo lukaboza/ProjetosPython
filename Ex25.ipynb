{
 "cells": [
  {
   "cell_type": "code",
   "execution_count": null,
   "metadata": {},
   "outputs": [],
   "source": [
    "'''\n",
    "Faça um Programa que pergunte em que turno você estuda. Peça \n",
    "para digitar M-matutino ou V-Vespertino ou N- Noturno. Imprima a \n",
    "mensagem \"Bom Dia!\", \"Boa Tarde!\" ou \"Boa Noite!\" ou \"Valor Inválido!\"\n",
    "conforme o caso.\n",
    "'''"
   ]
  },
  {
   "cell_type": "code",
   "execution_count": 1,
   "metadata": {},
   "outputs": [
    {
     "name": "stdin",
     "output_type": "stream",
     "text": [
      "Qual seu turno de estudo:  tarde\n"
     ]
    },
    {
     "name": "stdout",
     "output_type": "stream",
     "text": [
      "Boa tarde!\n"
     ]
    }
   ],
   "source": [
    "# perguntar o turno\n",
    "\n",
    "turno = str(input('Qual seu turno de estudo: ')).upper()\n",
    "\n",
    "# imprimir resposta\n",
    "\n",
    "if 'MANH' in turno:\n",
    "    print('Bom Dia!')\n",
    "if 'TARDE' in turno:\n",
    "    print('Boa tarde!')\n",
    "if 'NOITE' in turno:\n",
    "    print('Boa noite!')"
   ]
  }
 ],
 "metadata": {
  "kernelspec": {
   "display_name": "Python 3",
   "language": "python",
   "name": "python3"
  },
  "language_info": {
   "codemirror_mode": {
    "name": "ipython",
    "version": 3
   },
   "file_extension": ".py",
   "mimetype": "text/x-python",
   "name": "python",
   "nbconvert_exporter": "python",
   "pygments_lexer": "ipython3",
   "version": "3.8.5"
  }
 },
 "nbformat": 4,
 "nbformat_minor": 4
}
