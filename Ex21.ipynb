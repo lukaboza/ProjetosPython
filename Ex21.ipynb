{
 "cells": [
  {
   "cell_type": "code",
   "execution_count": null,
   "metadata": {},
   "outputs": [],
   "source": [
    "'''\n",
    "Faça um programa para a leitura de duas notas parciais de um aluno. O programa deve calcular a média alcançada por aluno e apresentar:\n",
    "\n",
    "    A mensagem \"Aprovado\", se a média alcançada for maior ou igual a sete;\n",
    "    A mensagem \"Reprovado\", se a média for menor do que sete;\n",
    "    A mensagem \"Aprovado com Distinção\", se a média for igual a dez. \n",
    "'''"
   ]
  },
  {
   "cell_type": "code",
   "execution_count": 3,
   "metadata": {},
   "outputs": [
    {
     "name": "stdin",
     "output_type": "stream",
     "text": [
      "Informe a primeira nota:  5\n",
      "Informe a segunda nota:  1\n"
     ]
    },
    {
     "name": "stdout",
     "output_type": "stream",
     "text": [
      "Reprovado.\n"
     ]
    }
   ],
   "source": [
    "# entrada de 2 notas\n",
    "\n",
    "nota_1 = int(input('Informe a primeira nota: '))\n",
    "nota_2 = int(input('Informe a segunda nota: '))\n",
    "\n",
    "# mostrar média alcançada\n",
    "\n",
    "media = (nota_1 + nota_2) / 2\n",
    "\n",
    "# apresentar se foi aprovado, reprovado ou aprovado com distinção\n",
    "\n",
    "if media == 10:\n",
    "    print('Aprovado com distinção.')\n",
    "elif media >= 7:\n",
    "    print('Aprovado.')\n",
    "elif media < 7:\n",
    "    print('Reprovado.')\n"
   ]
  }
 ],
 "metadata": {
  "kernelspec": {
   "display_name": "Python 3",
   "language": "python",
   "name": "python3"
  },
  "language_info": {
   "codemirror_mode": {
    "name": "ipython",
    "version": 3
   },
   "file_extension": ".py",
   "mimetype": "text/x-python",
   "name": "python",
   "nbconvert_exporter": "python",
   "pygments_lexer": "ipython3",
   "version": "3.8.5"
  }
 },
 "nbformat": 4,
 "nbformat_minor": 4
}
