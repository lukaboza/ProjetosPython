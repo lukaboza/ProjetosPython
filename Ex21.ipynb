{
 "cells": [
  {
   "cell_type": "code",
   "execution_count": null,
   "source": [
    "'''\r\n",
    "Faça um programa para a leitura de duas notas parciais de um aluno. O programa deve calcular a média alcançada por aluno e apresentar:\r\n",
    "\r\n",
    "    A mensagem \"Aprovado\", se a média alcançada for maior ou igual a sete;\r\n",
    "    A mensagem \"Reprovado\", se a média for menor do que sete;\r\n",
    "    A mensagem \"Aprovado com Distinção\", se a média for igual a dez. \r\n",
    "'''"
   ],
   "outputs": [],
   "metadata": {}
  },
  {
   "cell_type": "code",
   "execution_count": 1,
   "source": [
    "# entrada de 2 notas\r\n",
    "\r\n",
    "nota_1 = int(input('Informe a primeira nota: '))\r\n",
    "nota_2 = int(input('Informe a segunda nota: '))\r\n",
    "\r\n",
    "# mostrar média alcançada\r\n",
    "\r\n",
    "media = (nota_1 + nota_2) / 2\r\n",
    "\r\n",
    "# apresentar se foi aprovado, reprovado ou aprovado com distinção\r\n",
    "\r\n",
    "if media == 10:\r\n",
    "    print('Aprovado com distinção.')\r\n",
    "elif media >= 7:\r\n",
    "    print('Aprovado.')\r\n",
    "elif media < 7:\r\n",
    "    print('Reprovado.')\r\n"
   ],
   "outputs": [
    {
     "output_type": "stream",
     "name": "stdout",
     "text": [
      "Reprovado.\n"
     ]
    }
   ],
   "metadata": {}
  }
 ],
 "metadata": {
  "kernelspec": {
   "name": "python3",
   "display_name": "Python 3.8.8 64-bit ('base': conda)"
  },
  "language_info": {
   "codemirror_mode": {
    "name": "ipython",
    "version": 3
   },
   "file_extension": ".py",
   "mimetype": "text/x-python",
   "name": "python",
   "nbconvert_exporter": "python",
   "pygments_lexer": "ipython3",
   "version": "3.8.8"
  },
  "interpreter": {
   "hash": "a8f61be024eba58adef938c9aa1e29e02cb3dece83a5348b1a2dafd16a070453"
  }
 },
 "nbformat": 4,
 "nbformat_minor": 4
}