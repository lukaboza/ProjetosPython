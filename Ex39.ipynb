{
 "metadata": {
  "language_info": {
   "codemirror_mode": {
    "name": "ipython",
    "version": 3
   },
   "file_extension": ".py",
   "mimetype": "text/x-python",
   "name": "python",
   "nbconvert_exporter": "python",
   "pygments_lexer": "ipython3",
   "version": "3.8.5"
  },
  "orig_nbformat": 2,
  "kernelspec": {
   "name": "python385jvsc74a57bd007efdcd4b820c98a756949507a4d29d7862823915ec7477944641bea022f4f62",
   "display_name": "Python 3.8.5 64-bit ('base': conda)"
  }
 },
 "nbformat": 4,
 "nbformat_minor": 2,
 "cells": [
  {
   "cell_type": "code",
   "execution_count": null,
   "metadata": {},
   "outputs": [],
   "source": [
    "'''\n",
    "Faça um programa que peça 10 números inteiros, calcule e mostre a quantidade de números pares e a quantidade de números impares.\n",
    "'''"
   ]
  },
  {
   "cell_type": "code",
   "execution_count": 6,
   "metadata": {},
   "outputs": [
    {
     "output_type": "stream",
     "name": "stdout",
     "text": [
      "foram contados 10 números pares e 0 números impares\n"
     ]
    }
   ],
   "source": [
    "# entrada de 10 números inteiros\n",
    "# mostrar total de pares e impares\n",
    "n = 1\n",
    "par = 0\n",
    "impar = 0\n",
    "\n",
    "while n < 11:\n",
    "    num = int(input('Informe um número: '))\n",
    "    if num % 2 == 0:\n",
    "        par+=1\n",
    "        n+=1\n",
    "    else:\n",
    "        impar+=1\n",
    "        n+=1\n",
    "\n",
    "print(f'foram contados {par} números pares e {impar} números impares')"
   ]
  },
  {
   "cell_type": "code",
   "execution_count": null,
   "metadata": {},
   "outputs": [],
   "source": [
    "|"
   ]
  }
 ]
}