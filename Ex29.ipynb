{
 "cells": [
  {
   "cell_type": "code",
   "execution_count": null,
   "metadata": {},
   "outputs": [],
   "source": [
    "'''\n",
    "Faça um Programa que peça uma data no formato dd/mm/aaaa e determine se a mesma é uma data válida. \n",
    "'''"
   ]
  },
  {
   "cell_type": "code",
   "execution_count": 4,
   "metadata": {},
   "outputs": [
    {
     "output_type": "stream",
     "name": "stdout",
     "text": [
      "Data invalida!\n"
     ]
    }
   ],
   "source": [
    "# entrada de dados: dia, mes e ano\n",
    "\n",
    "dia = int(input('Informe que dia é hoje: '))\n",
    "mes = int(input('Informe que mês estamos: '))\n",
    "ano = int(input('Informe o ano: '))\n",
    "\n",
    "# validar a data\n",
    "\n",
    "if dia > 31 or mes > 12 or ano > 2021:\n",
    "    print('Data invalida!')\n",
    "else:\n",
    "    print(f'Hoje é {dia}/{mes}/{ano}')"
   ]
  },
  {
   "cell_type": "code",
   "execution_count": null,
   "metadata": {},
   "outputs": [],
   "source": []
  }
 ],
 "metadata": {
  "kernelspec": {
   "name": "python385jvsc74a57bd007efdcd4b820c98a756949507a4d29d7862823915ec7477944641bea022f4f62",
   "display_name": "Python 3.8.5 64-bit (virtualenv)"
  },
  "language_info": {
   "codemirror_mode": {
    "name": "ipython",
    "version": 3
   },
   "file_extension": ".py",
   "mimetype": "text/x-python",
   "name": "python",
   "nbconvert_exporter": "python",
   "pygments_lexer": "ipython3",
   "version": "3.8.5"
  }
 },
 "nbformat": 4,
 "nbformat_minor": 4
}